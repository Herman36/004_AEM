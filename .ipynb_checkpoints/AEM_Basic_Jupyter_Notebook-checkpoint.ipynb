{
 "cells": [
  {
   "cell_type": "markdown",
   "metadata": {},
   "source": [
    "# AEM Basic"
   ]
  },
  {
   "cell_type": "markdown",
   "metadata": {},
   "source": [
    "This is a Python implementation of the Applied Element Method"
   ]
  },
  {
   "cell_type": "code",
   "execution_count": 17,
   "metadata": {
    "collapsed": true
   },
   "outputs": [],
   "source": [
    "# Basic AEM\n",
    "# Note  all comments marked as #& indicate changes to be made in AEM_2D.py\n",
    "#       all comments marked as #! are concerns to be addressed\n",
    "#       all comments marked as ## indicates start and end of sections\n",
    "#       all comments marked as #@ working comments\n",
    "\n",
    "import numpy as np\n",
    "from math import cos, sin\n"
   ]
  },
  {
   "cell_type": "markdown",
   "metadata": {},
   "source": [
    "# Table of Contents\n",
    "* [AEM Basic](#AEM-Basic)\n",
    "\t* [Input deck](#Input-deck)\n",
    "\t* [Stiffness Matrix Calculations](#Stiffness-Matrix-Calculations)\n",
    "\t\t* [Individual spring contributing calculations](#Individual-spring-contributing-calculations)\n",
    "\t\t* [Computing each element stiffness and global stiffness](#Computing-each-element-stiffness-and-global-stiffness)\n",
    "\t* [Calculating unknown forces and displacements](#Calculating-unknown-forces-and-displacements)\n",
    "\t* [Calculation of stresses and strains](#Calculation-of-stresses-and-strains)\n",
    "\t\t* [Calculating new co-ordinates of each spring](#Calculating-new-co-ordinates-of-each-spring)\n",
    "\t\t* [Adding element strains](#Adding-element-strains)\n",
    "\t\t* [Computing strains per element pair interaction](#Computing-strains-per-element-pair-interaction)\n",
    "\t* [Specifying Output](#Specifying-Output)\n"
   ]
  },
  {
   "cell_type": "markdown",
   "metadata": {},
   "source": [
    "## Input deck"
   ]
  },
  {
   "cell_type": "markdown",
   "metadata": {},
   "source": [
    "The input deck will in later versions be changed so that the recorded information is read from an input file written by a mesher.\n",
    "Currently the units used for all geometry is in meters with all other material properties in SI units. Note that T indicates thickness or depth of material and nu is the Poisson ratio. The matrix el_center contains the element number and the x and y co-ordinates of the elements center.  Elements are numbered from the left to the right of the beam starting at element 0 and ending at element 9, thus total of 10 elements.  Should additional elements be added through the thickness of the beam the numbering continues again from left to right starting with element 10."
   ]
  },
  {
   "cell_type": "code",
   "execution_count": 18,
   "metadata": {
    "collapsed": false
   },
   "outputs": [],
   "source": [
    "## Start of input deck\n",
    "# Material properties\n",
    "E = 207e+9\n",
    "nu = 0.3\n",
    "G = E/(2*(1+nu))\n",
    "T = 0.15\n",
    "\n",
    "# Element properties\n",
    "#& Should be adjusted to load from hex_mesher\n",
    "grid = [10, 1, 0]\n",
    "num_ele = grid[0]*grid[1]\n",
    "el_center = np.zeros(shape=(num_ele, 3))\n",
    "el_count = 0\n",
    "for y_c in range(100, 200, 100):\n",
    "    for x_c in range(100, 2000, 200):\n",
    "        el_center[el_count, 0] = el_count\n",
    "        el_center[el_count, 1] = float(x_c)/1000\n",
    "        el_center[el_count, 2] = float(y_c)/1000\n",
    "        el_count += 1\n",
    "\n",
    "\n",
    "a1 = 0.2         # width of element 1\n",
    "b1 = 0.200         # height of element 1\n",
    "theta1 = 0.      # radians (for time being not applicable)\n",
    "\n",
    "#@ Seems redundent unless different size and shape elements\n",
    "#& Remove in future releases\n",
    "a2 = 0.2         # width of element 2\n",
    "b2 = 0.200         # height of element 2\n",
    "theta2 = 0.      # radians (for time being not applicable)\n",
    "\n",
    "gap = [0.00, 0.00, 0]         # size of gap between elements\n",
    "\n",
    "# Spring properties\n",
    "#@ Assuming same number of connecting springs for horizontal and vetical\n",
    "num_spring = 8\n",
    "\n",
    "# Prescribed displacements\n",
    "    # element number, DOF, value\n",
    "Up = np.array([0, 0, 0])\n",
    "#@ Needs to be done to read from input\n",
    "dof = np.ones(num_ele*3)\n",
    "dof[0] = 0\n",
    "dof[1] = 0\n",
    "dof[2] = 0\n",
    "\n",
    "# Prescribed forces\n",
    "    # element number, DOF, value\n",
    "F = np.zeros(shape=(num_ele*3, 1))\n",
    "F[28, 0] = -1.0e+3\n",
    "\n",
    "## End of input deck"
   ]
  },
  {
   "cell_type": "markdown",
   "metadata": {},
   "source": [
    "## Stiffness Matrix Calculations"
   ]
  },
  {
   "cell_type": "markdown",
   "metadata": {},
   "source": [
    "The stiffness matrix is computed by adding the influence of each spring connecting adjacent elements.  The influence of a spring is computed as the forces it exert on the center of element for a unit displacement in the degree of freedom.  \n",
    "Note the spring stiffnesses are what makes up the core of the method as each spring has to represent the material properties and the behavior of the material over the area wich is governed by d (distance between springs), a (distance from element center to element center) and T (thickness of the material). $$ K_n = \\frac{EdT}{a} $$ \n",
    "$$ K_s = \\frac{GdT}{a} $$"
   ]
  },
  {
   "cell_type": "markdown",
   "metadata": {},
   "source": [
    "### Individual spring contributing calculations"
   ]
  },
  {
   "cell_type": "markdown",
   "metadata": {},
   "source": [
    "Two separate functions were written to compute the individual affects of each spring on the element pair interaction stiffness.  These two functions are divided according to horizontal (Kte_row) interaction and vertical (Kte_column) interaction."
   ]
  },
  {
   "cell_type": "code",
   "execution_count": 19,
   "metadata": {
    "collapsed": true
   },
   "outputs": [],
   "source": [
    "def Kte_row(Knh, Ksh, a1, a2, bn1, bn2):\n",
    "    Kte = np.array([[Knh, 0, -Knh*bn1, -Knh, 0, Knh*bn2],\n",
    "                   [0, Ksh, Ksh*(a1/2), 0, -Ksh, Ksh*(a2/2)],\n",
    "                   [-Knh*bn1, Ksh*(a1/2),\n",
    "                    Knh*bn1**2+Ksh*(a1/2)**2, Knh*bn1,\n",
    "                    -Ksh*(a1/2), -Knh*bn1*bn2+Ksh*(a1/2)*(a2/2)],\n",
    "                   [-Knh, 0, Knh*bn1, Knh, 0, -Knh*bn2],\n",
    "                   [0, -Ksh, -Ksh*(a1/2), 0, Ksh, -Ksh*(a2/2)],\n",
    "                   [Knh*bn2, Ksh*(a2/2),\n",
    "                    (Knh*bn1*bn2)+Ksh*(a1/2)*(a2/2),\n",
    "                    -Knh*bn2, -Ksh*(a2/2),\n",
    "                    Knh*bn2**2+Ksh*(a2/2)**2]])\n",
    "    return Kte"
   ]
  },
  {
   "cell_type": "code",
   "execution_count": 20,
   "metadata": {
    "collapsed": true
   },
   "outputs": [],
   "source": [
    "def Kte_column(Knv, Ksv, an1, an2, b1, b2):\n",
    "    Kte = np.array([[Ksv, 0, -Ksv*(b1/2), -Ksv, 0, -Ksv*(b1/2)],\n",
    "                    [0, Knv, -Knv*an1, 0, -Knv, Knv*an2],\n",
    "                    [-Ksv*(b1/2), -Knv*an1,\n",
    "                     Knv*an1**2+Ksv*(b1/2)**2, Ksv*b1,\n",
    "                     Knv*an1, -Knv*an1*an2+Ksv*(b1/2)*(b2/2)],\n",
    "                    [-Ksv, 0, Ksv*(b1/2), Ksv, 0, Ksv*(b2/2)],\n",
    "                    [0, -Knv, Knv*an1, 0, Knv, -Knv*an2],\n",
    "                    [-Ksv*(b2/2), Knv*an2,\n",
    "                     -Ksv*an1*an2+Ksv*(b1/2)*(b2/2),\n",
    "                     Ksv*(b2/2), -Knv*an2,\n",
    "                     Knv*an2**2+Ksv*(b2/2)**2]])\n",
    "    return Kte"
   ]
  },
  {
   "cell_type": "markdown",
   "metadata": {},
   "source": [
    "### Computing each element stiffness and global stiffness"
   ]
  },
  {
   "cell_type": "markdown",
   "metadata": {},
   "source": [
    "The above shown functions are used to compute the element pair stifness and then the global stiffness.  Note that the use of the translation matrix and the rotation of elements to and from the global co-ordinates are still a bit unsure.  The influence of different size elements also remain a question to be answered.  The influence of the element pair interaction is assigned to the global stiffness matrix in accordance with the degrees of freedom represented where degrees 0-2 are element zero, 3-5 element one and so forth.  Elements numbers are assigned along the positive x axis in cronological order."
   ]
  },
  {
   "cell_type": "code",
   "execution_count": 21,
   "metadata": {
    "collapsed": false
   },
   "outputs": [],
   "source": [
    "## Start of calculating stiffness matricies [Prashidha 2014]\n",
    "\n",
    "#@ Insert incrementation here\n",
    "#@ Assume all elements of same size currently\n",
    "#@ For horizontal element interaction\n",
    "dh = float(b1)/(num_spring)\n",
    "#! Not sure how gap plays role here\n",
    "ah = a1/2 + a2/2\n",
    "Knh = (E*dh*T)/ah\n",
    "Ksh = (G*dh*T)/ah\n",
    "\n",
    "#@ For vertical element interaction\n",
    "dv = float(a1)/(num_spring)\n",
    "#! Not sure how gap plays role here\n",
    "av = b1/2 + b2/2\n",
    "Knv = (E*dv*T)/av\n",
    "Ksv = (G*dv*T)/av\n",
    "\n",
    "#! Unsure of the workings of theta1 and theta2\n",
    "#! Question 3: Setting up the stiffness matrices, these do not change unless a\n",
    "                # spring is no longer active\n",
    "#@ Note stiffness matrices are compiled per spring thus per element pair\n",
    "Kg = np.zeros(shape=(num_ele*3, num_ele*3))\n",
    "elemn = 0\n",
    "# Translation matrix:\n",
    "#! Check use of theta2\n",
    "L = np.array([[cos(theta1), sin(theta1), 0, 0, 0, 0],\n",
    "              [-sin(theta1), cos(theta1), 0, 0, 0, 0],\n",
    "              [0, 0, 1, 0, 0, 0],\n",
    "              [0, 0, 0, cos(theta2), sin(theta2), 0],\n",
    "              [0, 0, 0, -sin(theta2), cos(theta2), 0],\n",
    "              [0, 0, 0, 0, 0, 1]])\n",
    "LT = L.T\n",
    "## Start loops over element pairs\n",
    "for row in range(0, grid[1]-1):\n",
    "    for column in range(0, grid[0]-1):\n",
    "        ## Start of horizontal element pair interaction\n",
    "        Kel = np.zeros(shape=(6, 6))\n",
    "        for sign in range(1, 3):\n",
    "            for n in range(1, (num_spring/2)+1):\n",
    "                bn1 = ((-1)**sign)*(dh/2 + dh*(n-1))\n",
    "                bn2 = ((-1)**sign)*(dh/2 + dh*(n-1))\n",
    "                Kte = Kte_row(Knh, Ksh, a1, a2, bn1, bn2)\n",
    "                Kel = Kel + Kte     # adding each spring's contribution\n",
    "        Ke = LT.dot(Kel.dot(L))\n",
    "        ## End of horizontal element pair interaction\n",
    "        ## Adding element pair stiffness to global stiffness\n",
    "        pg_r = ([3*elemn, 3*elemn+1, 3*elemn+2,\n",
    "                 3*(elemn+1), 3*(elemn+1)+1, 3*(elemn+1)+2])\n",
    "        Kg[np.ix_(pg_r, pg_r)] = Kg[np.ix_(pg_r, pg_r)] + Ke\n",
    "\n",
    "        ## Start of vertical element pair interaction\n",
    "        Kel = np.zeros(shape=(6, 6))\n",
    "        for sign in range(1, 3):\n",
    "            for n in range(1, (num_spring/2)+1):\n",
    "                an1 = ((-1)**sign)*(dv/2 + dv*(n-1))\n",
    "                an2 = ((-1)**sign)*(dv/2 + dv*(n-1))\n",
    "                Kte = Kte_column(Knv, Ksv, an1, an2, b1, b2)\n",
    "                Kel = Kel + Kte     # adding each spring's contribution\n",
    "\n",
    "        Ke = LT.dot(Kel.dot(L))\n",
    "        ## End of vertical element pair interaction\n",
    "        ## Adding element pair stiffness to global stiffness\n",
    "        pg_c = ([3*elemn, 3*elemn+1, 3*elemn+2,\n",
    "                 3*(elemn+grid[0]), 3*(elemn+grid[0])+1, 3*(elemn+grid[0])+2])\n",
    "        Kg[np.ix_(pg_c, pg_c)] = Kg[np.ix_(pg_c, pg_c)] + Ke\n",
    "        elemn += 1\n",
    "\n",
    "    ## Start of vertical element pair interaction (interaction for last(left most) column)\n",
    "    Kel = np.zeros(shape=(6, 6))\n",
    "    for sign in range(1, 3):\n",
    "        for n in range(1, (num_spring/2)+1):\n",
    "            an1 = ((-1)**sign)*(dv/2 + dv*(n-1))\n",
    "            an2 = ((-1)**sign)*(dv/2 + dv*(n-1))\n",
    "            Kte = Kte_column(Knv, Ksv, an1, an2, b1, b2)\n",
    "            Kel = Kel + Kte     # adding each spring's contribution\n",
    "\n",
    "    Ke = LT.dot(Kel.dot(L))\n",
    "    ## End of vertical element pair interaction\n",
    "    ## Adding element pair stiffness to global stiffness\n",
    "    pg_c = ([3*elemn, 3*elemn+1, 3*elemn+2,\n",
    "             3*(elemn+grid[0]), 3*(elemn+grid[0])+1, 3*(elemn+grid[0])+2])\n",
    "    Kg[np.ix_(pg_c, pg_c)] = Kg[np.ix_(pg_c, pg_c)] + Ke\n",
    "    elemn += 1\n",
    "## Start of horizontal element pair interaction (interaction for last(top) row)\n",
    "for column in range(0, grid[0]-1):\n",
    "    Kel = np.zeros(shape=(6, 6))\n",
    "    for sign in range(1, 3):\n",
    "        for n in range(1, (num_spring/2)+1):\n",
    "            bn1 = ((-1)**sign)*(dh/2 + dh*(n-1))\n",
    "            bn2 = ((-1)**sign)*(dh/2 + dh*(n-1))\n",
    "            Kte = Kte_row(Knh, Ksh, a1, a2, bn1, bn2)\n",
    "            Kel = Kel + Kte     # adding each spring's contribution\n",
    "    Ke = LT.dot(Kel.dot(L))\n",
    "    ## End of horizontal element pair interaction\n",
    "    ## Adding element pair stiffness to global stiffness\n",
    "    pg_r = ([3*elemn, 3*elemn+1, 3*elemn+2,\n",
    "             3*(elemn+1), 3*(elemn+1)+1, 3*(elemn+1)+2])\n",
    "    Kg[np.ix_(pg_r, pg_r)] = Kg[np.ix_(pg_r, pg_r)] + Ke\n",
    "    elemn += 1\n",
    "## End of calculating stiffness matrices"
   ]
  },
  {
   "cell_type": "markdown",
   "metadata": {},
   "source": [
    "## Calculating unknown forces and displacements"
   ]
  },
  {
   "cell_type": "markdown",
   "metadata": {},
   "source": [
    "To calculate the unknowns in the equation $$ K.U=F $$ the stiffness matrix and coresponding degrees of freedom and forces needs to be split into prescribed displacements and free displacements.  Since we know that F for the free to displace degrees of freedom is 0 and we know the prescribed displacements the effect of the prescribed displacements on the forces for these degrees of freedom can be calculated  $$ F_{p1} = F_f - K_{fp}.U_p $$  This can then be used to calcuate the free displacements with $$ K_{ff}.U_f = F_{p1} $$ and finally the forces for the prescribed degrees of freedom can be calculated using $$ F_p = K_{fp}^{T}.U_f + K_{pp}.U_p $$"
   ]
  },
  {
   "cell_type": "code",
   "execution_count": 22,
   "metadata": {
    "collapsed": true
   },
   "outputs": [],
   "source": [
    "## Start of calculating unknown degrees of freedom and reaction forces\n",
    "\n",
    "# Next the stiffness matrix will be devided so that the free and\n",
    "    # prescribed degree of freedoms can be idependantly used to calculate\n",
    "    # the unknown variables\n",
    "\n",
    "# Loads are applied at the centre of an element on the degrees of freedom\n",
    "\n",
    "# Solve displacements\n",
    "U = np.zeros(shape=(num_ele*3, 1))\n",
    "# To solve for the free displacements the stiffness matrix needs to be devided\n",
    "    # this is done by clasifying the free and prescribed degrees of freedom\n",
    "pdof = np.where(dof == 0)[0]\n",
    "fdof = np.nonzero(dof)[0]\n",
    "\n",
    "Kff = Kg[fdof][:, fdof]\n",
    "Kfp = Kg[fdof][:, pdof]\n",
    "Kpp = Kg[pdof][:, pdof]\n",
    "\n",
    "# Now we include the effects of prescribed displacements\n",
    "Fp1 = F[fdof, 0] - Kfp.dot(Up)\n",
    "# Solve unknown degrees of freedom\n",
    "Uf = np.linalg.solve(Kff, Fp1)\n",
    "# Finally solve for the support reactions\n",
    "KfpT = Kfp.T\n",
    "Fp = KfpT.dot(Uf) + Kpp.dot(Up)\n",
    "# Placing calculated values back into global F and U\n",
    "U[fdof, 0] = Uf\n",
    "U[pdof, 0] = Up\n",
    "F[pdof, 0] = Fp\n",
    "## End of calculating unknown degrees of freedom and reaction forces"
   ]
  },
  {
   "cell_type": "markdown",
   "metadata": {},
   "source": [
    "## Calculation of stresses and strains"
   ]
  },
  {
   "cell_type": "markdown",
   "metadata": {},
   "source": [
    "The calculation of the stresses and strains are once again done per element pair interaction as for the stiffness matrix.  The strains are calculated using the displacement of each spring divided by the distance between the element pair centers.  Strains are calculated using the infinitesimal strain tensor, for small strains. Thus $$ \\epsilon_{11} = \\frac{u_1}{x_1} $$ $$ \\epsilon_{22} = \\frac{u_2}{x_2} $$ $$ \\epsilon_{12} = \\frac{u_1}{x_2} + \\frac{u_2}{x_1} $$ The strains are added together using a function for the horizontal and a function for the vertical interactions.  Also the new co-ordinates of each spring is calculated in a separate function."
   ]
  },
  {
   "cell_type": "markdown",
   "metadata": {},
   "source": [
    "The stress are calculated according to the plane stress and plane strain principals however since the thickness of the material is taken into account for each spring's stiffness I am unsure if this is correct."
   ]
  },
  {
   "cell_type": "markdown",
   "metadata": {},
   "source": [
    "### Calculating new co-ordinates of each spring"
   ]
  },
  {
   "cell_type": "code",
   "execution_count": 23,
   "metadata": {
    "collapsed": true
   },
   "outputs": [],
   "source": [
    "def new_coordinates(num_spring, ele, x_co, y_co, U, dof1, dof2):\n",
    "    Li = np.zeros(shape=(num_spring, 2))\n",
    "    x_co_n = np.zeros(shape=(num_spring, 2))  # [spring num,element num]\n",
    "    y_co_n = np.zeros(shape=(num_spring, 2))  # [spring num,element num]\n",
    "    x_co_n[:, 0] = x_co[:, 0] + U[dof1, 0]\n",
    "    x_co_n[:, 1] = x_co[:, 1] + U[dof2, 0]\n",
    "    y_co_n[:, 0] = y_co[:, 0] + U[dof1+1, 0]\n",
    "    y_co_n[:, 1] = y_co[:, 1] + U[dof2+1, 0]\n",
    "    for spr in range(0, num_spring):\n",
    "        x_co_n[spr, 0] = (x_co_n[spr, 0]*cos(U[dof1+2, 0])\n",
    "                          - y_co_n[spr, 0]*sin(U[dof1+2, 0]))\n",
    "        x_co_n[spr, 1] = (x_co_n[spr, 1]*cos(U[dof2+2, 0])\n",
    "                          - y_co_n[spr, 1]*sin(U[dof2+2, 0]))\n",
    "        y_co_n[spr, 0] = (x_co_n[spr, 0]*sin(U[dof1+2, 0])\n",
    "                          + y_co_n[spr, 0]*cos(U[dof1+2, 0]))\n",
    "        y_co_n[spr, 1] = (x_co_n[spr, 1]*sin(U[dof2+2, 0])\n",
    "                          + y_co_n[spr, 1]*cos(U[dof2+2, 0]))\n",
    "        Li[spr, 0] = x_co_n[spr, 1] - x_co_n[spr, 0]    # New length of x\n",
    "        Li[spr, 1] = y_co_n[spr, 1] - y_co_n[spr, 0]    # New length of y\n",
    "    return Li, x_co_n, y_co_n"
   ]
  },
  {
   "cell_type": "markdown",
   "metadata": {},
   "source": [
    "### Adding element strains"
   ]
  },
  {
   "cell_type": "code",
   "execution_count": 24,
   "metadata": {
    "collapsed": true
   },
   "outputs": [],
   "source": [
    "def element_strain_column(strain_ele, strain_column, ele, grid):\n",
    "    strain_ele[0, ele] = (strain_ele[0, ele]\n",
    "                          + np.average(strain_column[0, :]))\n",
    "    strain_ele[1, ele] = (strain_ele[1, ele]\n",
    "                          + np.average(strain_column[1, :]))\n",
    "    strain_ele[2, ele] = (strain_ele[2, ele]\n",
    "                          + np.average(strain_column[2, :]))\n",
    "\n",
    "    strain_ele[0, ele+grid[0]] = (strain_ele[0, ele+grid[0]]\n",
    "                                  + np.average(strain_column[0, :]))\n",
    "    strain_ele[1, ele+grid[0]] = (strain_ele[1, ele+grid[0]]\n",
    "                                  + np.average(strain_column[1, :]))\n",
    "    strain_ele[2, ele+grid[0]] = (strain_ele[2, ele+grid[0]]\n",
    "                                  + np.average(strain_column[2, :]))\n",
    "    return strain_ele"
   ]
  },
  {
   "cell_type": "code",
   "execution_count": 25,
   "metadata": {
    "collapsed": true
   },
   "outputs": [],
   "source": [
    "def element_strain_row(strain_ele, strain_row, ele, grid):\n",
    "    strain_ele[0, ele] = (strain_ele[0, ele]\n",
    "                          + np.average(strain_row[0, :]))\n",
    "    strain_ele[1, ele] = (strain_ele[1, ele]\n",
    "                          + np.average(strain_row[1, :]))\n",
    "    strain_ele[2, ele] = (strain_ele[2, ele]\n",
    "                          + np.average(strain_row[2, :]))\n",
    "\n",
    "    strain_ele[0, ele+1] = (strain_ele[0, ele+1]\n",
    "                            + np.average(strain_row[0, :]))\n",
    "    strain_ele[1, ele+1] = (strain_ele[1, ele+1]\n",
    "                            + np.average(strain_row[1, :]))\n",
    "    strain_ele[2, ele+1] = (strain_ele[2, ele+1]\n",
    "                            + np.average(strain_row[2, :]))\n",
    "    return strain_ele"
   ]
  },
  {
   "cell_type": "markdown",
   "metadata": {},
   "source": [
    "### Computing strains per element pair interaction"
   ]
  },
  {
   "cell_type": "markdown",
   "metadata": {},
   "source": [
    "The original co-ordinates of each spring is calculated and then used along with the displacements to calculate the new co-ordinates.  Using this the strains are calculated and finally the stresses are calculated using both the plane strain and plane stress approximation."
   ]
  },
  {
   "cell_type": "code",
   "execution_count": 26,
   "metadata": {
    "collapsed": true
   },
   "outputs": [],
   "source": [
    "## Start of calculating stresses and strains\n",
    "ele = 0\n",
    "strain_ele = np.zeros(shape=(3, grid[0]*grid[1]))   # [strain; ele]\n",
    "\n",
    "L0_row = np.zeros(shape=(num_spring, 2))\n",
    "dL_row = np.zeros(shape=(num_spring, 2))\n",
    "strain_row = np.zeros(shape=(3, num_spring))\n",
    "\n",
    "L0_column = np.zeros(shape=(num_spring, 2))\n",
    "dL_column = np.zeros(shape=(num_spring, 2))\n",
    "strain_column = np.zeros(shape=(3, num_spring))\n",
    "## Loop over elements\n",
    "for row in range(0, grid[1]-1):\n",
    "    for column in range(0, grid[0]-1):\n",
    "        # Calculating the original co-ordinates of each spring for horizontal\n",
    "        x_co = np.zeros(shape=(num_spring, 2))  # [spring num, element num]\n",
    "        y_co = np.zeros(shape=(num_spring, 2))  # [spring num, element num]\n",
    "        spr = 0\n",
    "        for sign in range(1, 3):\n",
    "            for n in range(1, (num_spring/2)+1):\n",
    "                bn1 = ((-1)**sign)*(dh/2 + dh*(n-1))\n",
    "                bn2 = ((-1)**sign)*(dh/2 + dh*(n-1))\n",
    "                x_co[spr, 0] = el_center[ele, 1] + a1/2\n",
    "                x_co[spr, 1] = el_center[ele+1, 1] - a2/2\n",
    "                y_co[spr, 0] = el_center[ele, 2] + bn1\n",
    "                y_co[spr, 1] = el_center[ele+1, 2] + bn2\n",
    "                L0_row[spr, 0] = x_co[spr, 1] - x_co[spr, 0]    # Original L N\n",
    "                L0_row[spr, 1] = y_co[spr, 1] - y_co[spr, 0]    # Original L S\n",
    "                spr += 1\n",
    "        dof1 = ele*3\n",
    "        dof2 = (ele+1)*3\n",
    "        Li_row, x_co_n, y_co_n = new_coordinates(num_spring, ele, x_co, y_co, U, dof1, dof2)\n",
    "        dL_row[:, 0] = Li_row[:, 0] - L0_row[:, 0]  # x direction\n",
    "        dL_row[:, 1] = Li_row[:, 1] - L0_row[:, 1]  # y direction\n",
    "        strain_row[0, :] = dL_row[:, 0]/(L0_row[:, 0] + ah)\n",
    "        strain_row[2, :] = dL_row[:, 1]/(L0_row[:, 0] + ah)\n",
    "\n",
    "        # Calculating the original co-ordinates of each spring for vertical\n",
    "        x_co = np.zeros(shape=(num_spring, 2))  # [spring num, element num]\n",
    "        y_co = np.zeros(shape=(num_spring, 2))  # [spring num, element num]\n",
    "        spr = 0\n",
    "        for sign in range(1, 3):\n",
    "            for n in range(1, (num_spring/2)+1):\n",
    "                an1 = ((-1)**sign)*(dv/2 + dv*(n-1))\n",
    "                an2 = ((-1)**sign)*(dv/2 + dv*(n-1))\n",
    "                x_co[spr, 0] = el_center[ele, 1] + an1\n",
    "                x_co[spr, 1] = el_center[ele+grid[0], 1] + an2\n",
    "                y_co[spr, 0] = el_center[ele, 2] + b1/2\n",
    "                y_co[spr, 1] = el_center[ele+grid[0], 2] - b2/2\n",
    "                L0_column[spr, 0] = x_co[spr, 1] - x_co[spr, 0]  # Original L S\n",
    "                L0_column[spr, 1] = y_co[spr, 1] - y_co[spr, 0]  # Original L N\n",
    "                spr += 1\n",
    "        dof1 = ele*3\n",
    "        dof2 = (ele+grid[0])*3\n",
    "        Li_column, x_co_n, y_co_n = new_coordinates(num_spring, ele, x_co, y_co, U, dof1, dof2)\n",
    "        dL_column[:, 0] = Li_column[:, 0] - L0_column[:, 0]     # x direction\n",
    "        dL_column[:, 1] = Li_column[:, 1] - L0_column[:, 1]     # y direction\n",
    "        strain_column[1, :] = dL_column[:, 1]/(L0_column[:, 0] + av)\n",
    "        strain_column[2, :] = dL_column[:, 0]/(L0_column[:, 0] + av)\n",
    "\n",
    "        strain_ele = element_strain_column(strain_ele,\n",
    "                                           strain_column, ele, grid)\n",
    "        strain_ele = element_strain_row(strain_ele, strain_row, ele, grid)\n",
    "        ele += 1\n",
    "    # Calculating the original co-ordinates of each spring for vertical\n",
    "    x_co = np.zeros(shape=(num_spring, 2))  # [spring num, element num]\n",
    "    y_co = np.zeros(shape=(num_spring, 2))  # [spring num, element num]\n",
    "    spr = 0\n",
    "    for sign in range(1, 3):\n",
    "        for n in range(1, (num_spring/2)+1):\n",
    "            an1 = ((-1)**sign)*(dv/2 + dv*(n-1))\n",
    "            an2 = ((-1)**sign)*(dv/2 + dv*(n-1))\n",
    "            x_co[spr, 0] = el_center[ele, 1] + an1\n",
    "            x_co[spr, 1] = el_center[ele+grid[0], 1] + an2\n",
    "            y_co[spr, 0] = el_center[ele, 2] + b1/2\n",
    "            y_co[spr, 1] = el_center[ele+grid[0], 2] - b2/2\n",
    "            L0_column[spr, 0] = x_co[spr, 1] - x_co[spr, 0]  # Original L S\n",
    "            L0_column[spr, 1] = y_co[spr, 1] - y_co[spr, 0]  # Original L N\n",
    "            spr += 1\n",
    "    dof1 = ele*3\n",
    "    dof2 = (ele+grid[0])*3\n",
    "    Li_column, x_co_n, y_co_n = new_coordinates(num_spring, ele, x_co, y_co, U, dof1, dof2)\n",
    "    dL_column[:, 0] = Li_column[:, 0] - L0_column[:, 0]\n",
    "    dL_column[:, 1] = Li_column[:, 1] - L0_column[:, 1]\n",
    "    strain_column[1, :] = dL_column[:, 1]/(L0_column[:, 0] + av)\n",
    "    strain_column[2, :] = dL_column[:, 0]/(L0_column[:, 0] + av)\n",
    "\n",
    "    strain_ele = element_strain_column(strain_ele,\n",
    "                                       strain_column, ele, grid)\n",
    "\n",
    "    ele += 1\n",
    "for column in range(0, grid[0]-1):\n",
    "    # Calculating the original co-ordinates of each spring for horizontal\n",
    "    x_co = np.zeros(shape=(num_spring, 2))  # [spring num, element num]\n",
    "    y_co = np.zeros(shape=(num_spring, 2))  # [spring num, element num]\n",
    "    spr = 0\n",
    "    for sign in range(1, 3):\n",
    "        for n in range(1, (num_spring/2)+1):\n",
    "            bn1 = ((-1)**sign)*(dh/2 + dh*(n-1))\n",
    "            bn2 = ((-1)**sign)*(dh/2 + dh*(n-1))\n",
    "            x_co[spr, 0] = el_center[ele, 1] + a1/2\n",
    "            x_co[spr, 1] = el_center[ele+1, 1] - a2/2\n",
    "            y_co[spr, 0] = el_center[ele, 2] + bn1\n",
    "            y_co[spr, 1] = el_center[ele+1, 2] + bn2\n",
    "            L0_row[spr, 0] = x_co[spr, 1] - x_co[spr, 0]    # Original L N\n",
    "            L0_row[spr, 1] = y_co[spr, 1] - y_co[spr, 0]    # Original L S\n",
    "            spr += 1\n",
    "    dof1 = ele*3\n",
    "    dof2 = (ele+1)*3\n",
    "    Li_row, x_co_n, y_co_n = new_coordinates(num_spring, ele, x_co, y_co, U, dof1, dof2)\n",
    "    dL_row[:, 0] = Li_row[:, 0] - L0_row[:, 0]  # x direction\n",
    "    dL_row[:, 1] = Li_row[:, 1] - L0_row[:, 1]  # y direction\n",
    "    strain_row[0, :] = dL_row[:, 0]/(L0_row[:, 0] + ah)\n",
    "    strain_row[2, :] = dL_row[:, 1]/(L0_row[:, 0] + ah)\n",
    "\n",
    "    strain_ele = element_strain_row(strain_ele, strain_row, ele, grid)\n",
    "    ele += 1\n",
    "\n",
    "#@ Stress calculation per element\n",
    "stress_Pstrain = np.zeros(shape=(3, grid[0]*grid[1]))\n",
    "stress_Pstress = np.zeros(shape=(3, grid[0]*grid[1]))\n",
    "C_strain = np.array([[1-nu, nu, 0],\n",
    "                     [nu, 1-nu, 0],\n",
    "                     [0, 0, 1-2*nu]])\n",
    "C_stress = np.array([[1, nu, 0],\n",
    "                     [nu, 1, 0],\n",
    "                     [0, 0, 1-nu]])\n",
    "\n",
    "stress_Pstrain = (E/((1+nu)*(1-2*nu))) * C_strain.dot(strain_ele)\n",
    "stress_Pstress = (E/(1-nu**2)) * C_stress.dot(strain_ele)\n",
    "## End of calculating stresses and strains"
   ]
  },
  {
   "cell_type": "markdown",
   "metadata": {},
   "source": [
    "## Specifying Output"
   ]
  },
  {
   "cell_type": "markdown",
   "metadata": {},
   "source": [
    "Later editions will include visual representation for easier verification and validation"
   ]
  },
  {
   "cell_type": "code",
   "execution_count": 27,
   "metadata": {
    "collapsed": false
   },
   "outputs": [
    {
     "name": "stdout",
     "output_type": "stream",
     "text": [
      "U=\n",
      "[[  0.00000000e+00]\n",
      " [  0.00000000e+00]\n",
      " [  0.00000000e+00]\n",
      " [ -2.66325146e-24]\n",
      " [ -2.22473349e-07]\n",
      " [ -1.38737439e-06]\n",
      " [ -1.55818470e-24]\n",
      " [ -5.26117613e-07]\n",
      " [ -8.11709142e-07]\n",
      " [ -2.01130265e-24]\n",
      " [ -7.95799740e-07]\n",
      " [ -1.04775303e-06]\n",
      " [ -1.81247179e-24]\n",
      " [ -1.07872851e-06]\n",
      " [ -9.44175565e-07]\n",
      " [ -1.86792802e-24]\n",
      " [ -1.35418843e-06]\n",
      " [ -9.73064519e-07]\n",
      " [ -1.78000961e-24]\n",
      " [ -1.62795729e-06]\n",
      " [ -9.27264958e-07]\n",
      " [ -1.65962902e-24]\n",
      " [ -1.89087517e-06]\n",
      " [ -8.64554789e-07]\n",
      " [ -1.33094944e-24]\n",
      " [ -2.13040005e-06]\n",
      " [ -6.93334892e-07]\n",
      " [ -5.53209674e-25]\n",
      " [ -2.31228794e-06]\n",
      " [ -2.88184930e-07]]\n",
      "F=\n",
      "[[    0.        ]\n",
      " [ 1000.        ]\n",
      " [  -41.34960517]\n",
      " [    0.        ]\n",
      " [    0.        ]\n",
      " [    0.        ]\n",
      " [    0.        ]\n",
      " [    0.        ]\n",
      " [    0.        ]\n",
      " [    0.        ]\n",
      " [    0.        ]\n",
      " [    0.        ]\n",
      " [    0.        ]\n",
      " [    0.        ]\n",
      " [    0.        ]\n",
      " [    0.        ]\n",
      " [    0.        ]\n",
      " [    0.        ]\n",
      " [    0.        ]\n",
      " [    0.        ]\n",
      " [    0.        ]\n",
      " [    0.        ]\n",
      " [    0.        ]\n",
      " [    0.        ]\n",
      " [    0.        ]\n",
      " [    0.        ]\n",
      " [    0.        ]\n",
      " [    0.        ]\n",
      " [-1000.        ]\n",
      " [    0.        ]]\n",
      "strain=\n",
      "[[  6.93684691e-07   4.05852739e-07  -1.69812698e-07   6.62300080e-08\n",
      "   -3.73464033e-08  -8.45763626e-09  -5.42557957e-08  -1.16963410e-07\n",
      "   -2.88177231e-07  -2.02569138e-07]\n",
      " [  0.00000000e+00   0.00000000e+00   0.00000000e+00   0.00000000e+00\n",
      "    0.00000000e+00   0.00000000e+00   0.00000000e+00   0.00000000e+00\n",
      "    0.00000000e+00   0.00000000e+00]\n",
      " [ -2.49974258e-06  -2.86663245e-06  -2.42343250e-06  -3.05687646e-06\n",
      "   -2.52207822e-06  -2.61579126e-06  -1.96966502e-06  -7.03483174e-07\n",
      "    2.90904549e-06   2.73691050e-06]]\n",
      "Pstrain=\n",
      "[[ 193297.90714816  113092.4267774   -47318.96145258   18455.24646157\n",
      "   -10406.71892819   -2356.75287266  -15118.58614502  -32592.30419084\n",
      "   -80301.69389895  -56446.66945205]\n",
      " [  82841.96020636   48468.1829046   -20279.55490825    7909.39134067\n",
      "    -4460.0223978    -1010.03694543   -6479.39406215  -13968.1303675\n",
      "   -34415.01167098  -24191.42976517]\n",
      " [-398035.9342915  -456456.08977044 -385885.02193875 -486748.78990589\n",
      "  -401592.45505773 -416514.45407583 -313631.275884   -112016.16695351\n",
      "   463209.55072996  435800.36426367]]\n",
      "Pstress=\n",
      "[[ 157794.20991687   92320.34838971  -38627.72363476   15065.50731557\n",
      "    -8495.2807577    -1923.87989605  -12341.70297553  -26605.96260477\n",
      "   -65552.40318282  -46078.91383841]\n",
      " [  47338.26297506   27696.10451691  -11588.31709043    4519.65219467\n",
      "    -2548.58422731    -577.16396882   -3702.51089266   -7981.78878143\n",
      "   -19665.72095485  -13823.67415152]\n",
      " [-398035.9342915  -456456.08977044 -385885.02193875 -486748.78990589\n",
      "  -401592.45505773 -416514.45407583 -313631.275884   -112016.16695351\n",
      "   463209.55072996  435800.36426367]]\n"
     ]
    }
   ],
   "source": [
    "print('U=')\n",
    "print(U)\n",
    "print('F=')\n",
    "print(F)\n",
    "print('strain=')\n",
    "print(strain_ele)\n",
    "print('Pstrain=')\n",
    "print(stress_Pstrain)\n",
    "print('Pstress=')\n",
    "print(stress_Pstress)"
   ]
  }
 ],
 "metadata": {
  "kernelspec": {
   "display_name": "Python 2",
   "language": "python",
   "name": "python2"
  },
  "language_info": {
   "codemirror_mode": {
    "name": "ipython",
    "version": 2
   },
   "file_extension": ".py",
   "mimetype": "text/x-python",
   "name": "python",
   "nbconvert_exporter": "python",
   "pygments_lexer": "ipython2",
   "version": "2.7.6"
  }
 },
 "nbformat": 4,
 "nbformat_minor": 0
}
