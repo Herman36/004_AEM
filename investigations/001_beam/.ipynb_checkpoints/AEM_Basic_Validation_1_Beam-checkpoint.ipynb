{
 "cells": [
  {
   "cell_type": "markdown",
   "metadata": {},
   "source": [
    "# AEM Basic verification 1 Beam"
   ]
  },
  {
   "cell_type": "markdown",
   "metadata": {},
   "source": [
    "In an attempt to validate the implementation of the AEM in a python program called AEM_basic.py the following input decks were written and then compared to the same problem modeled using the FEM with Calculix as well as the analytical solution expected for the problem."
   ]
  },
  {
   "cell_type": "markdown",
   "metadata": {},
   "source": [
    "## Uniaxial Loading of beam\n",
    "\n",
    "Uniaxial load is applied to a beam end of 10kN.  The displacement is compared to the same problem modeled using FEM and to an analytical solution."
   ]
  },
  {
   "cell_type": "markdown",
   "metadata": {},
   "source": [
    "### Analytical Solution\n",
    "\n",
    "Since there is no change in area the stress remains constant over the beam $$ \\sigma_{xx} = \\frac{F}{A} $$ The stress can then be related to the strain using Hooke's law: $$ \\sigma = E \\epsilon $$ with E = 207 GPa Now relating the strain to the displacement of the tip of the beam where the distributed force is applied $$ \\epsilon_{xx} = \\frac{\\partial u_{x}}{\\partial x} = \\frac{\\frac{F}{A}}{E}$$ $$ \\frac{dU_x}{dx} = \\frac{F}{AE} $$ giving $$ \\int_{0}^{x} du_x = \\int_{0}^{x} \\frac{F}{AE} dx $$ After integration and using boundary conditions knowing the displacement of the beam at x = 0 the displacement at the bar end is given as $$ \\delta_{end} = \\frac{FL}{EA} $$ or at ant other point $$ \\delta_x = \\frac{Fx}{EA} $$\n",
    "For the given problem $$ \\delta_{end} = \\frac{100 000 \\times 2}{207 \\times 10^{9} \\times 0.2 \\times 0.15} $$\n",
    "$$ \\delta_{end} = 3.2206 \\times 10^{-5}$$"
   ]
  },
  {
   "cell_type": "markdown",
   "metadata": {},
   "source": [
    "### AEM Solution using 2x1\n",
    "\n",
    "The grid used is 2 elements in the x direction and one in the y."
   ]
  },
  {
   "cell_type": "code",
   "execution_count": 1,
   "metadata": {
    "collapsed": false
   },
   "outputs": [
    {
     "name": "stdout",
     "output_type": "stream",
     "text": [
      "U=\n",
      "[[  0.00000000e+00]\n",
      " [  0.00000000e+00]\n",
      " [  0.00000000e+00]\n",
      " [  1.61030596e-05]\n",
      " [ -2.92727134e-21]\n",
      " [ -5.85454269e-21]]\n"
     ]
    }
   ],
   "source": [
    "import numpy as np\n",
    "import sys\n",
    "sys.path.insert(0, '../..')\n",
    "from AEM_basic import AEM_basic\n",
    "\n",
    "## Start of input deck\n",
    "# Material properties\n",
    "E = 207e+9\n",
    "nu = 0.3\n",
    "G = E/(2*(1+nu))\n",
    "T = 0.15\n",
    "\n",
    "# Element properties\n",
    "#& Should be adjusted to load from hex_mesher\n",
    "grid = [2, 1, 0]\n",
    "num_ele = grid[0]*grid[1]\n",
    "el_center = np.zeros(shape=(num_ele, 3))\n",
    "el_count = 0\n",
    "for y_c in range(100, 200, 100):\n",
    "    for x_c in range(500, 2000, 1000):\n",
    "        el_center[el_count, 0] = el_count\n",
    "        el_center[el_count, 1] = float(x_c)/1000\n",
    "        el_center[el_count, 2] = float(y_c)/1000\n",
    "        el_count += 1\n",
    "\n",
    "\n",
    "a1 = 1.        # width of element 1\n",
    "b1 = 0.200         # height of element 1\n",
    "theta1 = 0.      # radians (for time being not applicable)\n",
    "\n",
    "#@ Seems redundent unless different size and shape elements\n",
    "#& Remove in future releases\n",
    "a2 = 1.         # width of element 2\n",
    "b2 = 0.200         # height of element 2\n",
    "theta2 = 0.      # radians (for time being not applicable)\n",
    "\n",
    "gap = [0.00, 0.00, 0]         # size of gap between elements\n",
    "\n",
    "# Spring properties\n",
    "#@ Assuming same number of connecting springs for horizontal and vetical\n",
    "num_spring = 10\n",
    "\n",
    "# Prescribed displacements\n",
    "    # element number, DOF, value\n",
    "Up = np.array([0, 0, 0])\n",
    "#@ Needs to be done to read from input\n",
    "dof = np.ones(num_ele*3)\n",
    "dof[0] = 0\n",
    "dof[1] = 0\n",
    "dof[2] = 0\n",
    "\n",
    "# Prescribed forces\n",
    "    # element number, DOF, value\n",
    "F = np.zeros(shape=(num_ele*3, 1))\n",
    "F[3, 0] = 1.0e+5\n",
    "\n",
    "## End of input deck\n",
    "\n",
    "U, F, strain_ele, stress_Pstrain, stress_Pstress = AEM_basic(E, nu, G, T, grid, num_ele,\n",
    "              el_center, a1, a2, b1, b2, theta1, theta2, gap,\n",
    "              num_spring, Up, dof, F)\n",
    "\n",
    "print('U=')\n",
    "#print(U[-3, 0])\n",
    "print(U)\n",
    "#print('F=')\n",
    "#print(F)\n",
    "#print('strain=')\n",
    "#print(strain_ele)\n",
    "#print('Pstrain=')\n",
    "#print(stress_Pstrain)\n",
    "#print('Pstress=')\n",
    "#print(stress_Pstress)"
   ]
  },
  {
   "cell_type": "markdown",
   "metadata": {},
   "source": [
    "### AEM Solution 10x1"
   ]
  },
  {
   "cell_type": "code",
   "execution_count": 6,
   "metadata": {
    "collapsed": false
   },
   "outputs": [
    {
     "name": "stdout",
     "output_type": "stream",
     "text": [
      "U=\n",
      "2.89855072464e-05\n"
     ]
    }
   ],
   "source": [
    "import numpy as np\n",
    "import sys\n",
    "sys.path.insert(0, '../..')\n",
    "from AEM_basic import AEM_basic\n",
    "\n",
    "## Start of input deck\n",
    "# Material properties\n",
    "E = 207e+9\n",
    "nu = 0.3\n",
    "G = E/(2*(1+nu))\n",
    "T = 0.15\n",
    "\n",
    "# Element properties\n",
    "#& Should be adjusted to load from hex_mesher\n",
    "grid = [10, 1, 0]\n",
    "num_ele = grid[0]*grid[1]\n",
    "el_center = np.zeros(shape=(num_ele, 3))\n",
    "el_count = 0\n",
    "for y_c in range(100, 200, 100):\n",
    "    for x_c in range(100, 2000, 200):\n",
    "        el_center[el_count, 0] = el_count\n",
    "        el_center[el_count, 1] = float(x_c)/1000\n",
    "        el_center[el_count, 2] = float(y_c)/1000\n",
    "        el_count += 1\n",
    "\n",
    "\n",
    "a1 = 0.2         # width of element 1\n",
    "b1 = 0.200         # height of element 1\n",
    "theta1 = 0.      # radians (for time being not applicable)\n",
    "\n",
    "#@ Seems redundent unless different size and shape elements\n",
    "#& Remove in future releases\n",
    "a2 = 0.2         # width of element 2\n",
    "b2 = 0.200         # height of element 2\n",
    "theta2 = 0.      # radians (for time being not applicable)\n",
    "\n",
    "gap = [0.00, 0.00, 0]         # size of gap between elements\n",
    "\n",
    "# Spring properties\n",
    "#@ Assuming same number of connecting springs for horizontal and vetical\n",
    "num_spring = 10\n",
    "\n",
    "# Prescribed displacements\n",
    "    # element number, DOF, value\n",
    "Up = np.array([0, 0, 0])\n",
    "#@ Needs to be done to read from input\n",
    "dof = np.ones(num_ele*3)\n",
    "dof[0] = 0\n",
    "dof[1] = 0\n",
    "dof[2] = 0\n",
    "\n",
    "# Prescribed forces\n",
    "    # element number, DOF, value\n",
    "F = np.zeros(shape=(num_ele*3, 1))\n",
    "F[27, 0] = 1.0e+5\n",
    "\n",
    "## End of input deck\n",
    "\n",
    "U, F, strain_ele, stress_Pstrain, stress_Pstress = AEM_basic(E, nu, G, T, grid, num_ele,\n",
    "              el_center, a1, a2, b1, b2, theta1, theta2, gap,\n",
    "              num_spring, Up, dof, F)\n",
    "\n",
    "print('U=')\n",
    "print(U[-3, 0])\n",
    "#print('F=')\n",
    "#print(F)\n",
    "#print('strain=')\n",
    "#print(strain_ele)\n",
    "#print('Pstrain=')\n",
    "#print(stress_Pstrain)\n",
    "#print('Pstress=')\n",
    "#print(stress_Pstress)"
   ]
  },
  {
   "cell_type": "markdown",
   "metadata": {},
   "source": [
    "#### Error in U\n",
    "\n",
    "Due to the nature of the AEM applied boundary conditions the length depicted aren't the actual length of the beam.  The \"first\" half of element 0 and the \"last\" half of element 9 aren't included in the calculations.  Resulting in an expected error in displacement of 10% $$ \\frac{0.1+0.1}{2} \\times 100 $$\n",
    "\n",
    "Actual error:  $$ \\frac{3.2206 \\times 10^{-05} - 2.8986 \\times 10^{-05}}{3.2206 \\times 10^{-05}} \\times 100 = 9.998\\% $$"
   ]
  },
  {
   "cell_type": "markdown",
   "metadata": {},
   "source": [
    "### AEM Solution 2x2"
   ]
  },
  {
   "cell_type": "code",
   "execution_count": 1,
   "metadata": {
    "collapsed": false
   },
   "outputs": [
    {
     "name": "stdout",
     "output_type": "stream",
     "text": [
      "U=\n",
      "[[  0.00000000e+00]\n",
      " [  0.00000000e+00]\n",
      " [  0.00000000e+00]\n",
      " [  1.58915753e-05]\n",
      " [ -2.14414886e-06]\n",
      " [ -6.17419334e-06]\n",
      " [  0.00000000e+00]\n",
      " [  0.00000000e+00]\n",
      " [  0.00000000e+00]\n",
      " [  1.63145438e-05]\n",
      " [ -2.14052213e-06]\n",
      " [ -2.39514864e-06]]\n"
     ]
    }
   ],
   "source": [
    "import numpy as np\n",
    "import sys\n",
    "sys.path.insert(0, '../..')\n",
    "from AEM_basic import AEM_basic\n",
    "\n",
    "## Start of input deck\n",
    "# Material properties\n",
    "E = 207e+9\n",
    "nu = 0.3\n",
    "G = E/(2*(1+nu))\n",
    "T = 0.15\n",
    "\n",
    "# Element properties\n",
    "#& Should be adjusted to load from hex_mesher\n",
    "grid = [2, 2, 0]\n",
    "num_ele = grid[0]*grid[1]\n",
    "el_center = np.zeros(shape=(num_ele, 3))\n",
    "el_count = 0\n",
    "for y_c in range(50, 200, 100):\n",
    "    for x_c in range(500, 2000, 1000):\n",
    "        el_center[el_count, 0] = el_count\n",
    "        el_center[el_count, 1] = float(x_c)/1000\n",
    "        el_center[el_count, 2] = float(y_c)/1000\n",
    "        el_count += 1\n",
    "\n",
    "\n",
    "a1 = 1.         # width of element 1\n",
    "b1 = 0.100         # height of element 1\n",
    "theta1 = 0.      # radians (for time being not applicable)\n",
    "\n",
    "#@ Seems redundent unless different size and shape elements\n",
    "#& Remove in future releases\n",
    "a2 = 1.         # width of element 2\n",
    "b2 = 0.100         # height of element 2\n",
    "theta2 = 0.      # radians (for time being not applicable)\n",
    "\n",
    "gap = [0.00, 0.00, 0]         # size of gap between elements\n",
    "\n",
    "# Spring properties\n",
    "#@ Assuming same number of connecting springs for horizontal and vetical\n",
    "num_spring = 10\n",
    "\n",
    "# Prescribed displacements\n",
    "    # element number, DOF, value\n",
    "Up = np.array([0, 0, 0, 0, 0, 0])\n",
    "#@ Needs to be done to read from input\n",
    "dof = np.ones(num_ele*3)\n",
    "dof[0] = 0\n",
    "dof[1] = 0\n",
    "dof[2] = 0\n",
    "dof[6] = 0\n",
    "dof[7] = 0\n",
    "dof[8] = 0\n",
    "\n",
    "# Prescribed forces\n",
    "    # element number, DOF, value\n",
    "F = np.zeros(shape=(num_ele*3, 1))\n",
    "F[3, 0] = 0.50e+5\n",
    "F[9, 0] = 0.50e+5\n",
    "\n",
    "## End of input deck\n",
    "\n",
    "U, F, strain_ele, stress_Pstrain, stress_Pstress = AEM_basic(E, nu, G, T, grid, num_ele,\n",
    "              el_center, a1, a2, b1, b2, theta1, theta2, gap,\n",
    "              num_spring, Up, dof, F)\n",
    "\n",
    "print('U=')\n",
    "print(U)\n",
    "#print('F=')\n",
    "#print(F)\n",
    "#print('strain=')\n",
    "#print(strain_ele)\n",
    "#print('Pstrain=')\n",
    "#print(stress_Pstrain)\n",
    "#print('Pstress=')\n",
    "#print(stress_Pstress)"
   ]
  },
  {
   "cell_type": "markdown",
   "metadata": {},
   "source": [
    "#### Error in U\n",
    "\n",
    "After the successful completion of the 10x1 beam implementation I tried a 10x2gird but the displacements at the beam tip did not react as expected.  I then tried a 2x2 solution and as can be seen in above results the displacements of the two elements at the beam tip is not the same in the x-direction.  Also in contrast to the original implementation of 2x1 the displacements in the y direction along with the rotation of the elements are allot higher than expected.  Obviously some mistake is made in the implementation of the vertical stiffness interactions."
   ]
  }
 ],
 "metadata": {
  "kernelspec": {
   "display_name": "Python 2",
   "language": "python",
   "name": "python2"
  },
  "language_info": {
   "codemirror_mode": {
    "name": "ipython",
    "version": 2
   },
   "file_extension": ".py",
   "mimetype": "text/x-python",
   "name": "python",
   "nbconvert_exporter": "python",
   "pygments_lexer": "ipython2",
   "version": "2.7.6"
  }
 },
 "nbformat": 4,
 "nbformat_minor": 0
}
